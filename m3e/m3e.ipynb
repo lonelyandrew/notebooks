{
 "cells": [
  {
   "cell_type": "code",
   "execution_count": 1,
   "outputs": [],
   "source": [
    "from sentence_transformers import SentenceTransformer, util"
   ],
   "metadata": {
    "collapsed": false,
    "ExecuteTime": {
     "end_time": "2023-08-14T11:58:30.203722Z",
     "start_time": "2023-08-14T11:58:23.999444Z"
    }
   },
   "id": "452f5b542b9493b5"
  },
  {
   "cell_type": "code",
   "execution_count": 2,
   "outputs": [],
   "source": [
    "model = SentenceTransformer('moka-ai/m3e-base')"
   ],
   "metadata": {
    "collapsed": false,
    "ExecuteTime": {
     "end_time": "2023-08-14T12:00:18.726360Z",
     "start_time": "2023-08-14T12:00:17.183397Z"
    }
   },
   "id": "ae86298a17617440"
  },
  {
   "cell_type": "code",
   "execution_count": 3,
   "outputs": [
    {
     "name": "stdout",
     "output_type": "stream",
     "text": [
      "氯化钠注射液 \t\t 氯化钾注射液 \t\t Score: 0.9652\n",
      "氯化钠注射液 \t\t 氯化钠 \t\t Score: 0.9014\n",
      "氯化钠 \t\t 氯化钾注射液 \t\t Score: 0.8625\n",
      "氯化钠 \t\t 生理盐水 \t\t Score: 0.8075\n",
      "氯化钠注射液 \t\t 生理盐水 \t\t Score: 0.7916\n",
      "生理盐水 \t\t 氯化钾注射液 \t\t Score: 0.7790\n"
     ]
    }
   ],
   "source": [
    "sentences = [\n",
    "    '氯化钠注射液',\n",
    "    '氯化钠',\n",
    "    '生理盐水',\n",
    "    '氯化钾注射液',\n",
    "]\n",
    "\n",
    "#Sentences are encoded by calling model.encode()\n",
    "embeddings = model.encode(sentences)\n",
    "\n",
    "cosine_scores = util.cos_sim(embeddings, embeddings)\n",
    "\n",
    "#Find the pairs with the highest cosine similarity scores\n",
    "pairs = []\n",
    "for i in range(len(cosine_scores) - 1):\n",
    "    for j in range(i + 1, len(cosine_scores)):\n",
    "        pairs.append({'index': [i, j], 'score': cosine_scores[i][j]})\n",
    "\n",
    "#Sort scores in decreasing order\n",
    "pairs = sorted(pairs, key=lambda x: x['score'], reverse=True)\n",
    "\n",
    "for pair in pairs[0:10]:\n",
    "    i, j = pair['index']\n",
    "    print(\"{} \\t\\t {} \\t\\t Score: {:.4f}\".format(sentences[i], sentences[j], pair['score']))"
   ],
   "metadata": {
    "collapsed": false,
    "ExecuteTime": {
     "end_time": "2023-08-14T12:00:20.942483Z",
     "start_time": "2023-08-14T12:00:20.760986Z"
    }
   },
   "id": "1532e5573ea2c24d"
  }
 ],
 "metadata": {
  "kernelspec": {
   "display_name": "Python 3",
   "language": "python",
   "name": "python3"
  },
  "language_info": {
   "codemirror_mode": {
    "name": "ipython",
    "version": 2
   },
   "file_extension": ".py",
   "mimetype": "text/x-python",
   "name": "python",
   "nbconvert_exporter": "python",
   "pygments_lexer": "ipython2",
   "version": "2.7.6"
  }
 },
 "nbformat": 4,
 "nbformat_minor": 5
}
